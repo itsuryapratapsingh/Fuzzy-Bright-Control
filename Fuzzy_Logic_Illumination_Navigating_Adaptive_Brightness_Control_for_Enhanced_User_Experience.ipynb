{
  "nbformat": 4,
  "nbformat_minor": 0,
  "metadata": {
    "colab": {
      "provenance": []
    },
    "kernelspec": {
      "name": "python3",
      "display_name": "Python 3"
    },
    "language_info": {
      "name": "python"
    }
  },
  "cells": [
    {
      "cell_type": "code",
      "source": [
        "!pip install scikit-fuzzy\n",
        "import numpy as np\n",
        "import skfuzzy as fuzz\n",
        "from skfuzzy import control as ctrl\n",
        "import matplotlib.pyplot as plt\n",
        "\n",
        "# Antecedents and Consequents\n",
        "ambient_light = ctrl.Antecedent(np.arange(0, 101, 1), 'ambient_light')\n",
        "user_preference = ctrl.Antecedent(np.arange(0, 101, 1), 'user_preference')\n",
        "brightness_level = ctrl.Consequent(np.arange(0, 101, 1), 'brightness_level')\n",
        "\n",
        "# Membership Functions\n",
        "ambient_light['low'] = fuzz.trimf(ambient_light.universe, [0, 0, 50])\n",
        "ambient_light['medium'] = fuzz.trimf(ambient_light.universe, [0, 50, 100])\n",
        "ambient_light['high'] = fuzz.trimf(ambient_light.universe, [50, 100, 100])\n",
        "\n",
        "user_preference['low'] = fuzz.trimf(user_preference.universe, [0, 0, 50])\n",
        "user_preference['medium'] = fuzz.trimf(user_preference.universe, [0, 50, 100])\n",
        "user_preference['high'] = fuzz.trimf(user_preference.universe, [50, 100, 100])\n",
        "\n",
        "brightness_level['low'] = fuzz.trimf(brightness_level.universe, [0, 0, 50])\n",
        "brightness_level['medium'] = fuzz.trimf(brightness_level.universe, [0, 50, 100])\n",
        "brightness_level['high'] = fuzz.trimf(brightness_level.universe, [50, 100, 100])\n",
        "\n",
        "# Rules\n",
        "rule1 = ctrl.Rule(ambient_light['low'] & user_preference['low'], brightness_level['low'])\n",
        "rule2 = ctrl.Rule(ambient_light['medium'] | user_preference['medium'], brightness_level['medium'])\n",
        "rule3 = ctrl.Rule(ambient_light['high'] & user_preference['high'], brightness_level['high'])\n",
        "\n",
        "# Control System\n",
        "brightness_ctrl = ctrl.ControlSystem([rule1, rule2, rule3])\n",
        "brightness_ctrl_simulation = ctrl.ControlSystemSimulation(brightness_ctrl)\n",
        "\n",
        "# User Input\n",
        "user_ambient_light = float(input(\"Enter ambient light level (0-100): \"))\n",
        "user_preference_level = float(input(\"Enter user preference level (0-100): \"))\n",
        "\n",
        "# Set User Input\n",
        "brightness_ctrl_simulation.input['ambient_light'] = user_ambient_light\n",
        "brightness_ctrl_simulation.input['user_preference'] = user_preference_level\n",
        "\n",
        "# Compute the result\n",
        "brightness_ctrl_simulation.compute()\n",
        "\n",
        "# Output\n",
        "print(f\"Brightness Level: {brightness_ctrl_simulation.output['brightness_level']:.2f}\")\n",
        "\n",
        "# Graphical Analysis (Dot Patterns)\n",
        "ambient_light.view(sim=brightness_ctrl_simulation)\n",
        "user_preference.view(sim=brightness_ctrl_simulation)\n",
        "brightness_level.view(sim=brightness_ctrl_simulation)\n",
        "\n",
        "plt.show()\n"
      ],
      "metadata": {
        "id": "N-zXHO1WCR5a"
      },
      "execution_count": null,
      "outputs": []
    }
  ]
}